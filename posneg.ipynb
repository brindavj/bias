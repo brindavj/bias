{
 "metadata": {
  "name": "News_positive_negative"
 },
 "nbformat": 3,
 "nbformat_minor": 0,
 "worksheets": [
  {
   "cells": [
    {
     "cell_type": "code",
     "collapsed": false,
     "input": "import feedparser\nimport json\n#from future import Future\nimport numpy as np\nimport networkx as nx\nimport requests\nfrom pattern import web\nimport matplotlib.pyplot as plt\nimport pandas as pd\nimport re",
     "language": "python",
     "metadata": {},
     "outputs": [],
     "prompt_number": 11
    },
    {
     "cell_type": "code",
     "collapsed": false,
     "input": "# Read the CSV and get shape info\ndf1=pd.read_csv('cnn.csv')\nprint df1.shape\nprint df1.head()",
     "language": "python",
     "metadata": {},
     "outputs": [
      {
       "output_type": "stream",
       "stream": "stdout",
       "text": "(666, 4)\n                       published                                title  \\\n0  Wed, 20 Nov 2013 14:15:32 EST          Bush and Clinton, opposites   \n1  Wed, 20 Nov 2013 18:13:33 EST     Bush paints, but is he any good?   \n2  Wed, 20 Nov 2013 17:03:19 EST     Returning sailor weds in airport   \n3  Tue, 19 Nov 2013 12:19:32 EST        Is Kmart holiday ad too racy?   \n4  Tue, 19 Nov 2013 11:39:14 EST  Shocking images of NFL player's car   \n\n                                                link  \\\n0  http://rss.cnn.com/~r/rss/cnn_topstories/~3/Od...   \n1  http://rss.cnn.com/~r/rss/cnn_topstories/~3/h2...   \n2  http://rss.cnn.com/~r/rss/cnn_topstories/~3/JB...   \n3  http://rss.cnn.com/~r/rss/cnn_topstories/~3/kg...   \n4  http://rss.cnn.com/~r/rss/cnn_topstories/~3/-F...   \n\n                                             content  \n0  <em><strong>Editor's note:</strong> <a href=\"h...  \n1  <em><strong>Editor's note:</strong> Former Pre...  \n2  A couple decided to get married at a Nevada ai...  \n3  A recent Kmart ad is drawing criticism from pe...  \n4  Former NFL player  Thomas Howard died in a hig...  \n"
      }
     ],
     "prompt_number": 12
    },
    {
     "cell_type": "code",
     "collapsed": false,
     "input": "allwords=[]\nfor x in df1['content']:\n    words = re.findall(r'\\b\\S+\\b', x)\n    allwords.append([words])\ndf1.keys()",
     "language": "python",
     "metadata": {},
     "outputs": [
      {
       "metadata": {},
       "output_type": "pyout",
       "prompt_number": 13,
       "text": "Index([published, title, link, content], dtype=object)"
      }
     ],
     "prompt_number": 13
    },
    {
     "cell_type": "code",
     "collapsed": false,
     "input": "import urllib\nnegtxt='http://www.unc.edu/~ncaren/haphazard/negative.txt'\npostxt='http://www.unc.edu/~ncaren/haphazard/positive.txt'\nfiles=['negative.txt','positive.txt']\npath='http://www.unc.edu/~ncaren/haphazard/'\nfor file_name in files:\n    urllib.urlretrieve(path+file_name,file_name)\nnegwords = open(\"negative.txt\").read()\nnegwords = negwords.split('\\n')\nposwords = open(\"positive.txt\").read()\nposwords = poswords.split('\\n')",
     "language": "python",
     "metadata": {},
     "outputs": [],
     "prompt_number": 14
    },
    {
     "cell_type": "code",
     "collapsed": false,
     "input": "allneg=[]\nallpos=[]\nfor a in allwords:\n    negative_words=[]\n    positive_words=[]\n    for w in a:\n        for w1 in w:\n            if w1 in poswords:\n                positive_words.append(w1)\n            if w1 in negwords:\n                negative_words.append(w1)\n    allpos.append([0] if not positive_words else [positive_words])\n    allneg.append([0] if not negative_words else [negative_words])\nposneg=pd.DataFrame({'pos':allpos,'neg':allneg})",
     "language": "python",
     "metadata": {},
     "outputs": [],
     "prompt_number": 15
    },
    {
     "cell_type": "code",
     "collapsed": false,
     "input": "posneg['pos']",
     "language": "python",
     "metadata": {},
     "outputs": [
      {
       "metadata": {},
       "output_type": "pyout",
       "prompt_number": 16,
       "text": "0     [[opportunity, help, important, even, diplomat...\n1     [[help, earnest, realistic, fun, greatest, com...\n2                                             [[above]]\n3                                             [[above]]\n4                                             [[above]]\n5                                             [[above]]\n6                                             [[above]]\n7                                             [[above]]\n8                                             [[above]]\n9     [[dedicated, legendary, animated, determinatio...\n10                                                  [0]\n11    [[benefit, better, help, advocacy, improving, ...\n12                                            [[above]]\n13                                            [[above]]\n14                                            [[above]]\n...\n651       [[lively, content, welcome, will, will, will]]\n652    [[just, well, bright, lively, content, welcome...\n653    [[lovely, well, established, right, lively, co...\n654    [[lovely, well, established, right, help, live...\n655    [[happy, hopefully, will, will, will, will, re...\n656       [[lively, content, welcome, will, will, will]]\n657    [[happy, will, better, better, support, champi...\n658    [[well, lively, content, welcome, will, will, ...\n659    [[awe, lively, content, welcome, will, will, w...\n660    [[effective, substantive, lifelong, lively, co...\n661    [[above, lively, content, welcome, will, will,...\n662       [[lively, content, welcome, will, will, will]]\n663    [[beautifully, colorful, perfectly, warmth, he...\n664    [[upside, lively, content, welcome, will, will...\n665    [[unique, capable, lively, content, welcome, w...\nName: pos, Length: 666, dtype: object"
      }
     ],
     "prompt_number": 16
    },
    {
     "cell_type": "code",
     "collapsed": false,
     "input": "posneg['neg']",
     "language": "python",
     "metadata": {},
     "outputs": [
      {
       "metadata": {},
       "output_type": "pyout",
       "prompt_number": 17,
       "text": "0     [[lost, tense, passive, defensive, attack, att...\n1     [[critics, critic, spot, inexperienced, trying...\n2                                                   [0]\n3                          [[criticism, inappropriate]]\n4                                                   [0]\n5                                            [[horror]]\n6                                                   [0]\n7                                                   [0]\n8                                                   [0]\n9                                       [[death, lost]]\n10                                                  [0]\n11                  [[poor, inequality, poverty, poor]]\n12                                                  [0]\n13                                          [[divorce]]\n14                                                  [0]\n...\n651                                            [[false]]\n652    [[bad, damage, damage, down, war, unbelievable...\n653                   [[sad, sad, coping, least, false]]\n654      [[sad, sad, coping, least, complaining, false]]\n655    [[game, protest, against, game, illegal, prote...\n656                                            [[false]]\n657    [[depression, hard, depression, toll, problems...\n658                                     [[shock, false]]\n659                                    [[hatred, false]]\n660    [[game, disappointed, game, illegal, less, try...\n661                                [[shockingly, false]]\n662                                            [[false]]\n663                          [[weakness, little, false]]\n664                                      [[down, false]]\n665                                    [[hardly, false]]\nName: neg, Length: 666, dtype: object"
      }
     ],
     "prompt_number": 17
    },
    {
     "cell_type": "code",
     "collapsed": false,
     "input": "",
     "language": "python",
     "metadata": {},
     "outputs": []
    }
   ],
   "metadata": {}
  }
 ]
}
