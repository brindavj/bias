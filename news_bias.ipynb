{
 "metadata": {
  "name": "News_positive_negative (3)"
 },
 "nbformat": 3,
 "nbformat_minor": 0,
 "worksheets": [
  {
   "cells": [
    {
     "cell_type": "code",
     "collapsed": false,
     "input": "import feedparser\nimport json\n#from future import Future\nimport numpy as np\nimport networkx as nx\nimport requests\nfrom pattern import web\nimport matplotlib.pyplot as plt\nimport pandas as pd\nimport re",
     "language": "python",
     "metadata": {},
     "outputs": [],
     "prompt_number": 153
    },
    {
     "cell_type": "markdown",
     "metadata": {},
     "source": "***Part 1***"
    },
    {
     "cell_type": "code",
     "collapsed": false,
     "input": "# Read the CSV and get shape info\ndf1=pd.read_csv('cnn.csv')\nprint df1.shape\nprint df1.head()",
     "language": "python",
     "metadata": {},
     "outputs": [
      {
       "output_type": "stream",
       "stream": "stdout",
       "text": "(672, 4)\n                       published                                title  \\\n0  Wed, 20 Nov 2013 09:19:29 EST               What made JFK a leader   \n1  Wed, 20 Nov 2013 09:19:39 EST      Mistake to call it 'Obamacare'?   \n2  Mon, 18 Nov 2013 20:41:05 EST      World's 12 best shopping cities   \n3  Tue, 19 Nov 2013 11:39:14 EST  Shocking images of NFL player's car   \n4  Mon, 18 Nov 2013 10:23:10 EST   Lion kills a lioness at Dallas Zoo   \n\n                                                link  \\\n0  http://rss.cnn.com/~r/rss/cnn_topstories/~3/5k...   \n1  http://rss.cnn.com/~r/rss/cnn_topstories/~3/N4...   \n2  http://rss.cnn.com/~r/rss/cnn_topstories/~3/8z...   \n3  http://rss.cnn.com/~r/rss/cnn_topstories/~3/-F...   \n4  http://rss.cnn.com/~r/rss/cnn_topstories/~3/w8...   \n\n                                             content  \n0  <em><strong>Editor's note:</strong> <a href=\"h...  \n1  <em><strong>Editor's note:</strong> <i>John Mc...  \n2  <strong>(CNN)</strong> -- It may be mid-Novemb...  \n3  Former NFL player  Thomas Howard died in a hig...  \n4  A lion at the Dallas Zoo killed a lioness as v...  \n"
      }
     ],
     "prompt_number": 36
    },
    {
     "cell_type": "code",
     "collapsed": false,
     "input": "def extract_words(df):\n    allwords=[]\n    for x in df['content']:\n        words = re.findall(r'\\b\\S+\\b', x)\n        allwords.append(words)\n    return allwords\n#extract_words(df1)[0]\nlen(df1['content'])",
     "language": "python",
     "metadata": {},
     "outputs": [
      {
       "metadata": {},
       "output_type": "pyout",
       "prompt_number": 288,
       "text": "672"
      }
     ],
     "prompt_number": 288
    },
    {
     "cell_type": "code",
     "collapsed": false,
     "input": "import urllib\nnegtxt='http://www.unc.edu/~ncaren/haphazard/negative.txt'\npostxt='http://www.unc.edu/~ncaren/haphazard/positive.txt'\nfiles=['negative.txt','positive.txt']\npath='http://www.unc.edu/~ncaren/haphazard/'\nfor file_name in files:\n    urllib.urlretrieve(path+file_name,file_name)\nnegwords = open(\"negative.txt\").read()\nnegwords = negwords.split('\\n')\nposwords = open(\"positive.txt\").read()\nposwords = poswords.split('\\n')",
     "language": "python",
     "metadata": {},
     "outputs": [],
     "prompt_number": 4
    },
    {
     "cell_type": "code",
     "collapsed": false,
     "input": "allneg=[]\nallpos=[]\nfor a in allwords:\n    negative_words=[]\n    positive_words=[]\n    for w in a:\n        for w1 in w:\n            if w1 in poswords:\n                positive_words.append(w1)\n            if w1 in negwords:\n                negative_words.append(w1)\n    allpos.append([0] if not positive_words else positive_words)\n    allneg.append([0] if not negative_words else negative_words)\nposneg=pd.DataFrame({'pos':allpos,'neg':allneg})",
     "language": "python",
     "metadata": {},
     "outputs": [],
     "prompt_number": 14
    },
    {
     "cell_type": "code",
     "collapsed": false,
     "input": "posneg['pos']",
     "language": "python",
     "metadata": {},
     "outputs": [
      {
       "metadata": {},
       "output_type": "pyout",
       "prompt_number": 15,
       "text": "0     [white, large, potential, powerful, great, dea...\n1     [civilization, great, notable, proper, good, c...\n2     [even, better, gratifying, enjoyable, upscale,...\n3                                               [above]\n4                                               [above]\n5                                          [hug, above]\n6                                               [above]\n7     [special, notable, inspiring, just, genius, po...\n8                                               [above]\n9     [freedom, confident, innocence, impression, be...\n10    [top, fair, able, well, wide, patient, respect...\n11    [dedicated, legendary, animated, determination...\n12    [expert, natural, recommended, logical, normal...\n13                                              [above]\n14                                              [above]\n...\n657    [well, lively, content, welcome, will, will, w...\n658    [effective, substantive, lifelong, lively, con...\n659    [above, lively, content, welcome, will, will, ...\n660    [beautifully, colorful, perfectly, warmth, hea...\n661    [upside, lively, content, welcome, will, will,...\n662    [unique, capable, lively, content, welcome, wi...\n663    [large, friend, lively, content, welcome, will...\n664    [extraordinary, voluntarily, well, lively, con...\n665    [just, lively, content, welcome, will, will, w...\n666         [lively, content, welcome, will, will, will]\n667    [friends, help, help, lively, content, welcome...\n668    [amazing, lively, content, welcome, will, will...\n669         [lively, content, welcome, will, will, will]\n670    [good, lively, content, welcome, will, will, w...\n671    [smart, just, even, sound, moving, will, livel...\nName: pos, Length: 672, dtype: object"
      }
     ],
     "prompt_number": 15
    },
    {
     "cell_type": "code",
     "collapsed": false,
     "input": "posneg['neg']",
     "language": "python",
     "metadata": {},
     "outputs": [
      {
       "metadata": {},
       "output_type": "pyout",
       "prompt_number": 16,
       "text": "0     [black, tragic, difficult, opinionated, skepti...\n1     [slur, prideful, dirty, against, offend, queer...\n2     [disturbingly, cross, crippling, worse, seriou...\n3                                                   [0]\n4                                              [horror]\n5                                                   [0]\n6                                                   [0]\n7     [less, rivalry, heavily, hard, rhetoric, crisi...\n8                                             [divorce]\n9     [trial, unclear, little, assault, criminal, mi...\n10    [wounds, fight, down, wounds, wound, unable, m...\n11                                        [death, lost]\n12    [ridiculous, baseless, illness, illness, suspi...\n13                                                  [0]\n14                                                  [0]\n...\n657                                       [shock, false]\n658    [game, disappointed, game, illegal, less, tryi...\n659                                  [shockingly, false]\n660                            [weakness, little, false]\n661                                        [down, false]\n662                                      [hardly, false]\n663                                              [false]\n664                         [hard, noisy, hardly, false]\n665                                              [false]\n666                                              [false]\n667                                   [desperate, false]\n668                                              [false]\n669    [alarm, hard, severe, dangerous, unpredictable...\n670                                     [warning, false]\n671                          [warning, slow, bad, false]\nName: neg, Length: 672, dtype: object"
      }
     ],
     "prompt_number": 16
    },
    {
     "cell_type": "code",
     "collapsed": false,
     "input": "#UPDATE: now working on keyword bias and site bias. \n#Want to see how many positive and negative words are used per site and based on the keyword, \n#how many positive and negative words show up.\ndef number_of_pos_neg(df):\n    numPos=0\n    numNeg=0\n    for l in df['pos']:\n        numPos=numPos+len(l)\n    for m in df['neg']:\n        numNeg=numNeg+len(m)\n    pos_bias_percentage = float(numPos)/float(numPos+numNeg)\n    return 'Number Positive Words ' ,numPos, 'Number Negative Words ' ,numNeg, 'Total', numPos+numNeg,'bias',pos_bias_percentage\n    ",
     "language": "python",
     "metadata": {},
     "outputs": [],
     "prompt_number": 245
    },
    {
     "cell_type": "code",
     "collapsed": false,
     "input": "dfall=pd.read_csv('xyz.csv')\nprint dfall.shape\ndfall.head(0:5)",
     "language": "python",
     "metadata": {},
     "outputs": [
      {
       "ename": "SyntaxError",
       "evalue": "invalid syntax (<ipython-input-261-7090559ab85a>, line 3)",
       "output_type": "pyerr",
       "traceback": [
        "\u001b[0;36m  File \u001b[0;32m\"<ipython-input-261-7090559ab85a>\"\u001b[0;36m, line \u001b[0;32m3\u001b[0m\n\u001b[0;31m    dfall.head(0:5)\u001b[0m\n\u001b[0m                ^\u001b[0m\n\u001b[0;31mSyntaxError\u001b[0m\u001b[0;31m:\u001b[0m invalid syntax\n"
       ]
      }
     ],
     "prompt_number": 261
    },
    {
     "cell_type": "code",
     "collapsed": false,
     "input": "def news_content(dfall, newssource):\n    newssource_stories=[]\n    for ns in dfall['link'].keys():\n        if newssource in dfall['link'][ns]:\n            newssource_stories.append(dfall['content'][ns])\n\n    allwords=[]\n    for s in range(0,len(newssource_stories)):\n        words = re.findall(r'\\b\\S+\\b', newssource_stories[s])\n        allwords.append(words)\n    return allwords",
     "language": "python",
     "metadata": {},
     "outputs": [],
     "prompt_number": 163
    },
    {
     "cell_type": "code",
     "collapsed": false,
     "input": "def analyze_words(allwords):\n    allneg=[]\n    allpos=[]\n    positive_words=[]\n    negative_words=[]\n    for article in allwords:\n        for word in article:\n            if word in poswords:\n                positive_words.append(word)\n            if word in negwords:\n                negative_words.append(word)\n        allpos.append([0] if not positive_words else positive_words)\n        allneg.append([0] if not negative_words else negative_words)\n        negative_words=[]\n        positive_words=[]\n    return pd.DataFrame({'pos':allpos,'neg':allneg})",
     "language": "python",
     "metadata": {},
     "outputs": [],
     "prompt_number": 117
    },
    {
     "cell_type": "code",
     "collapsed": false,
     "input": "BBCwords = news_content(dfall, \"bbc\")\nBBCposneg=analyze_words(BBCwords)\nnumber_of_pos_neg(BBCposneg)",
     "language": "python",
     "metadata": {},
     "outputs": [
      {
       "metadata": {},
       "output_type": "pyout",
       "prompt_number": 246,
       "text": "('Number Positive Words ',\n 3612,\n 'Number Negative Words ',\n 1981,\n 'Total',\n 5593,\n 'bias',\n 0.6458072590738423)"
      }
     ],
     "prompt_number": 246
    },
    {
     "cell_type": "code",
     "collapsed": false,
     "input": "CNNwords = news_content(dfall, \"cnn\")\nCNNposneg=analyze_words(CNNwords)\nnumber_of_pos_neg(CNNposneg)",
     "language": "python",
     "metadata": {},
     "outputs": [
      {
       "metadata": {},
       "output_type": "pyout",
       "prompt_number": 247,
       "text": "('Number Positive Words ',\n 3180,\n 'Number Negative Words ',\n 2356,\n 'Total',\n 5536,\n 'bias',\n 0.5744219653179191)"
      }
     ],
     "prompt_number": 247
    },
    {
     "cell_type": "code",
     "collapsed": false,
     "input": "NPRwords = news_content(dfall, \"npr\")\nNPRposneg=analyze_words(NPRwords)\nnumber_of_pos_neg(NPRposneg)",
     "language": "python",
     "metadata": {},
     "outputs": [
      {
       "metadata": {},
       "output_type": "pyout",
       "prompt_number": 248,
       "text": "('Number Positive Words ',\n 304,\n 'Number Negative Words ',\n 156,\n 'Total',\n 460,\n 'bias',\n 0.6608695652173913)"
      }
     ],
     "prompt_number": 248
    },
    {
     "cell_type": "code",
     "collapsed": false,
     "input": "NYTIMESwords = news_content(dfall, \"nytimes\")\nNYTIMESposneg=analyze_words(NYTIMESwords)\nnumber_of_pos_neg(NYTIMESposneg)",
     "language": "python",
     "metadata": {},
     "outputs": [
      {
       "metadata": {},
       "output_type": "pyout",
       "prompt_number": 249,
       "text": "('Number Positive Words ',\n 1583,\n 'Number Negative Words ',\n 1072,\n 'Total',\n 2655,\n 'bias',\n 0.5962335216572505)"
      }
     ],
     "prompt_number": 249
    },
    {
     "cell_type": "code",
     "collapsed": false,
     "input": "GUARDIANwords = news_content(dfall, \"guardian\")\nGUARDIANposneg=analyze_words(GUARDIANwords)\nnumber_of_pos_neg(GUARDIANposneg)",
     "language": "python",
     "metadata": {},
     "outputs": [
      {
       "metadata": {},
       "output_type": "pyout",
       "prompt_number": 250,
       "text": "('Number Positive Words ',\n 1272,\n 'Number Negative Words ',\n 1151,\n 'Total',\n 2423,\n 'bias',\n 0.5249690466364012)"
      }
     ],
     "prompt_number": 250
    },
    {
     "cell_type": "code",
     "collapsed": false,
     "input": "CNBCwords = news_content(dfall, \"cnbc\")\nCNBCposneg=analyze_words(CNBCwords)\nnumber_of_pos_neg(CNBCposneg)",
     "language": "python",
     "metadata": {},
     "outputs": [
      {
       "metadata": {},
       "output_type": "pyout",
       "prompt_number": 251,
       "text": "('Number Positive Words ',\n 1423,\n 'Number Negative Words ',\n 1041,\n 'Total',\n 2464,\n 'bias',\n 0.5775162337662337)"
      }
     ],
     "prompt_number": 251
    },
    {
     "cell_type": "code",
     "collapsed": false,
     "input": "NBCwords = news_content(dfall, \"nbcnews\")\nNBCposneg=analyze_words(NBCwords)\nnumber_of_pos_neg(NBCposneg)",
     "language": "python",
     "metadata": {},
     "outputs": [
      {
       "metadata": {},
       "output_type": "pyout",
       "prompt_number": 252,
       "text": "('Number Positive Words ',\n 755,\n 'Number Negative Words ',\n 750,\n 'Total',\n 1505,\n 'bias',\n 0.5016611295681063)"
      }
     ],
     "prompt_number": 252
    },
    {
     "cell_type": "code",
     "collapsed": false,
     "input": "ECONOMISTwords = news_content(dfall, \"economist\")\nECONOMISTposneg=analyze_words(ECONOMISTwords)\nnumber_of_pos_neg(ECONOMISTposneg)",
     "language": "python",
     "metadata": {},
     "outputs": [
      {
       "metadata": {},
       "output_type": "pyout",
       "prompt_number": 253,
       "text": "('Number Positive Words ',\n 1500,\n 'Number Negative Words ',\n 1121,\n 'Total',\n 2621,\n 'bias',\n 0.5723006486074017)"
      }
     ],
     "prompt_number": 253
    },
    {
     "cell_type": "code",
     "collapsed": false,
     "input": "WSJwords = news_content(dfall, \"wsj\")\nWSJposneg=analyze_words(WSJwords)\nnumber_of_pos_neg(WSJposneg)",
     "language": "python",
     "metadata": {},
     "outputs": [
      {
       "metadata": {},
       "output_type": "pyout",
       "prompt_number": 254,
       "text": "('Number Positive Words ',\n 119,\n 'Number Negative Words ',\n 102,\n 'Total',\n 221,\n 'bias',\n 0.5384615384615384)"
      }
     ],
     "prompt_number": 254
    },
    {
     "cell_type": "code",
     "collapsed": false,
     "input": "NEWSwords = {'BBC':BBCwords,'CNN':CNNwords,'NPR':NPRwords,'NYTIMES':NYTIMESwords,'GUARDIAN':GUARDIANwords,'CNBC':CNBCwords,'NBC':NBCwords,'ECONOMIST':ECONOMISTwords,'WSJ':WSJwords}\nNEWSposneg = {'BBC': BBCposneg,'CNN': CNNposneg,'NPR': NPRposneg,'NYTIMES':NYTIMESposneg,'GUARDIAN': GUARDIANposneg,'CNBC':CNBCposneg,'NBC':NBCposneg,'ECONOMIST':ECONOMISTposneg,'WSJ':WSJposneg}\ndef keyword_bias(keyword,site):\n    pos=0\n    neg=0\n    for o in range(len(NEWSwords[site])):\n        if keyword in NEWSwords[site][o]:\n            pos=pos+ len(NEWSposneg[site]['pos'][o])\n            neg=neg+ len(NEWSposneg[site]['neg'][o])\n    return keyword,site,pos,neg,pos+neg\n\nkeyword_bias('Kennedy','CNN')\n",
     "language": "python",
     "metadata": {},
     "outputs": [
      {
       "metadata": {},
       "output_type": "pyout",
       "prompt_number": 298,
       "text": "('Kennedy', 'CNN', 93, 98, 191)"
      }
     ],
     "prompt_number": 298
    },
    {
     "cell_type": "code",
     "collapsed": false,
     "input": "def all_keyword_bias(keyword):\n    for site in NEWSwords.keys():\n        print keyword_bias(keyword,site)",
     "language": "python",
     "metadata": {},
     "outputs": [],
     "prompt_number": 299
    },
    {
     "cell_type": "code",
     "collapsed": false,
     "input": "all_keyword_bias('NSA')",
     "language": "python",
     "metadata": {},
     "outputs": [
      {
       "output_type": "stream",
       "stream": "stdout",
       "text": "('NSA', 'NBC', 7, 8, 15)\n('NSA', 'CNBC', 35, 22, 57)\n('NSA', 'NYTIMES', 0, 0, 0)\n('NSA', 'CNN', 2, 1, 3)\n('NSA', 'GUARDIAN', 132, 91, 223)\n('NSA', 'WSJ', 0, 0, 0)\n('NSA', 'BBC', 0, 0, 0)\n('NSA', 'ECONOMIST', 0, 0, 0)\n('NSA', 'NPR', 0, 0, 0)\n"
      }
     ],
     "prompt_number": 300
    },
    {
     "cell_type": "code",
     "collapsed": false,
     "input": "buzzwords = ['NSA','storm','abortion','Obama','Christmas','holidays','Thanksgiving','Kennedy']\nfor bw in buzzwords:\n    print all_keyword_bias(bw)",
     "language": "python",
     "metadata": {},
     "outputs": [
      {
       "output_type": "stream",
       "stream": "stdout",
       "text": "('NSA', 'NBC', 7, 8, 15)\n('NSA', 'CNBC', 35, 22, 57)\n('NSA', 'NYTIMES', 0, 0, 0)\n('NSA', 'CNN', 2, 1, 3)\n('NSA', 'GUARDIAN', 132, 91, 223)\n('NSA', 'WSJ', 0, 0, 0)\n('NSA', 'BBC', 0, 0, 0)\n('NSA', 'ECONOMIST', 0, 0, 0)\n('NSA', 'NPR', 0, 0, 0)\nNone\n('storm', 'NBC', 29, 31, 60)\n('storm', 'CNBC', 141, 89, 230)\n('storm', 'NYTIMES', 84, 114, 198)\n('storm', 'CNN', 226, 238, 464)\n('storm', 'GUARDIAN', 10, 14, 24)\n('storm', 'WSJ', 0, 0, 0)\n('storm', 'BBC', 0, 0, 0)\n('storm', 'ECONOMIST', 0, 0, 0)\n('storm', 'NPR', 0, 0, 0)\nNone\n('abortion', 'NBC', 0, 0, 0)\n('abortion', 'CNBC', 62, 54, 116)\n('abortion', 'NYTIMES', 48, 17, 65)\n('abortion', 'CNN', 0, 0, 0)\n('abortion', 'GUARDIAN', 34, 23, 57)\n('abortion', 'WSJ', 0, 0, 0)\n('abortion', 'BBC', 170, 136, 306)"
      },
      {
       "output_type": "stream",
       "stream": "stdout",
       "text": "\n('abortion', 'ECONOMIST', 82, 45, 127)\n('abortion', 'NPR', 0, 0, 0)\nNone\n('Obama', 'NBC', 325, 371, 696)\n('Obama', 'CNBC', 123, 114, 237)\n('Obama', 'NYTIMES', 270, 203, 473)\n('Obama', 'CNN', 670, 438, 1108)\n('Obama', 'GUARDIAN', 333, 166, 499)\n('Obama', 'WSJ', 0, 0, 0)\n('Obama', 'BBC', 40, 32, 72)\n('Obama', 'ECONOMIST', 1259, 966, 2225)\n('Obama', 'NPR', 115, 44, 159)\nNone\n('Christmas', 'NBC', 0, 0, 0)\n('Christmas', 'CNBC', 0, 0, 0)\n('Christmas', 'NYTIMES', 360, 226, 586)\n('Christmas', 'CNN', 146, 119, 265)\n('Christmas', 'GUARDIAN', 24, 27, 51)\n('Christmas', 'WSJ', 41, 19, 60)\n('Christmas', 'BBC', 486, 346, 832)\n('Christmas', 'ECONOMIST', 64, 41, 105)\n('Christmas', 'NPR', 0, 0, 0)\nNone\n('holidays', 'NBC', 30, 9, 39)\n('holidays', 'CNBC', 0, 0, 0)\n('holidays', 'NYTIMES', 20, 15, 35)\n('holidays', 'CNN', 239, 202, 441)\n('holidays', 'GUARDIAN', 0, 0, 0)"
      },
      {
       "output_type": "stream",
       "stream": "stdout",
       "text": "\n('holidays', 'WSJ', 0, 0, 0)\n('holidays', 'BBC', 0, 0, 0)\n('holidays', 'ECONOMIST', 0, 0, 0)\n('holidays', 'NPR', 0, 0, 0)\nNone\n('Thanksgiving', 'NBC', 63, 42, 105)\n('Thanksgiving', 'CNBC', 201, 159, 360)\n('Thanksgiving', 'NYTIMES', 513, 281, 794)\n('Thanksgiving', 'CNN', 276, 176, 452)\n('Thanksgiving', 'GUARDIAN', 62, 28, 90)\n('Thanksgiving', 'WSJ', 0, 0, 0)\n('Thanksgiving', 'BBC', 0, 0, 0)\n('Thanksgiving', 'ECONOMIST', 699, 581, 1280)\n('Thanksgiving', 'NPR', 11, 2, 13)\nNone\n('Kennedy', 'NBC', 0, 0, 0)\n('Kennedy', 'CNBC', 0, 0, 0)\n('Kennedy', 'NYTIMES', 0, 0, 0)\n('Kennedy', 'CNN', 93, 98, 191)\n('Kennedy', 'GUARDIAN', 0, 0, 0)\n('Kennedy', 'WSJ', 0, 0, 0)\n('Kennedy', 'BBC', 0, 0, 0)"
      },
      {
       "output_type": "stream",
       "stream": "stdout",
       "text": "\n('Kennedy', 'ECONOMIST', 50, 40, 90)\n('Kennedy', 'NPR', 0, 0, 0)\nNone\n"
      }
     ],
     "prompt_number": 287
    },
    {
     "cell_type": "code",
     "collapsed": false,
     "input": "",
     "language": "python",
     "metadata": {},
     "outputs": []
    }
   ],
   "metadata": {}
  }
 ]
}
